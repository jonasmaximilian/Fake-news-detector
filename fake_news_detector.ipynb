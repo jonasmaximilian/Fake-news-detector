{
 "cells": [
  {
   "cell_type": "code",
   "execution_count": 1,
   "id": "a16196fe",
   "metadata": {},
   "outputs": [
    {
     "name": "stdout",
     "output_type": "stream",
     "text": [
      "Imports successful\n"
     ]
    }
   ],
   "source": [
    "import numpy as np\n",
    "import pandas as pd\n",
    "import matplotlib.pyplot as plt\n",
    "import seaborn as sns\n",
    "import itertools\n",
    "from sklearn.model_selection import train_test_split\n",
    "from sklearn.feature_extraction.text import TfidfVectorizer\n",
    "from sklearn.linear_model import PassiveAggressiveClassifier\n",
    "from sklearn.linear_model import LogisticRegression\n",
    "from sklearn.svm import SVC\n",
    "from sklearn.ensemble import RandomForestClassifier\n",
    "from sklearn.metrics import accuracy_score, classification_report\n",
    "print(\"Imports successful\")"
   ]
  },
  {
   "cell_type": "code",
   "execution_count": 2,
   "id": "a00fd103",
   "metadata": {},
   "outputs": [
    {
     "data": {
      "text/html": [
       "<div>\n",
       "<style scoped>\n",
       "    .dataframe tbody tr th:only-of-type {\n",
       "        vertical-align: middle;\n",
       "    }\n",
       "\n",
       "    .dataframe tbody tr th {\n",
       "        vertical-align: top;\n",
       "    }\n",
       "\n",
       "    .dataframe thead th {\n",
       "        text-align: right;\n",
       "    }\n",
       "</style>\n",
       "<table border=\"1\" class=\"dataframe\">\n",
       "  <thead>\n",
       "    <tr style=\"text-align: right;\">\n",
       "      <th></th>\n",
       "      <th>Unnamed: 0</th>\n",
       "      <th>title</th>\n",
       "      <th>text</th>\n",
       "      <th>label</th>\n",
       "    </tr>\n",
       "  </thead>\n",
       "  <tbody>\n",
       "    <tr>\n",
       "      <th>0</th>\n",
       "      <td>8476</td>\n",
       "      <td>You Can Smell Hillary’s Fear</td>\n",
       "      <td>Daniel Greenfield, a Shillman Journalism Fello...</td>\n",
       "      <td>FAKE</td>\n",
       "    </tr>\n",
       "    <tr>\n",
       "      <th>1</th>\n",
       "      <td>10294</td>\n",
       "      <td>Watch The Exact Moment Paul Ryan Committed Pol...</td>\n",
       "      <td>Google Pinterest Digg Linkedin Reddit Stumbleu...</td>\n",
       "      <td>FAKE</td>\n",
       "    </tr>\n",
       "    <tr>\n",
       "      <th>2</th>\n",
       "      <td>3608</td>\n",
       "      <td>Kerry to go to Paris in gesture of sympathy</td>\n",
       "      <td>U.S. Secretary of State John F. Kerry said Mon...</td>\n",
       "      <td>REAL</td>\n",
       "    </tr>\n",
       "    <tr>\n",
       "      <th>3</th>\n",
       "      <td>10142</td>\n",
       "      <td>Bernie supporters on Twitter erupt in anger ag...</td>\n",
       "      <td>— Kaydee King (@KaydeeKing) November 9, 2016 T...</td>\n",
       "      <td>FAKE</td>\n",
       "    </tr>\n",
       "    <tr>\n",
       "      <th>4</th>\n",
       "      <td>875</td>\n",
       "      <td>The Battle of New York: Why This Primary Matters</td>\n",
       "      <td>It's primary day in New York and front-runners...</td>\n",
       "      <td>REAL</td>\n",
       "    </tr>\n",
       "  </tbody>\n",
       "</table>\n",
       "</div>"
      ],
      "text/plain": [
       "   Unnamed: 0                                              title   \n",
       "0        8476                       You Can Smell Hillary’s Fear  \\\n",
       "1       10294  Watch The Exact Moment Paul Ryan Committed Pol...   \n",
       "2        3608        Kerry to go to Paris in gesture of sympathy   \n",
       "3       10142  Bernie supporters on Twitter erupt in anger ag...   \n",
       "4         875   The Battle of New York: Why This Primary Matters   \n",
       "\n",
       "                                                text label  \n",
       "0  Daniel Greenfield, a Shillman Journalism Fello...  FAKE  \n",
       "1  Google Pinterest Digg Linkedin Reddit Stumbleu...  FAKE  \n",
       "2  U.S. Secretary of State John F. Kerry said Mon...  REAL  \n",
       "3  — Kaydee King (@KaydeeKing) November 9, 2016 T...  FAKE  \n",
       "4  It's primary day in New York and front-runners...  REAL  "
      ]
     },
     "execution_count": 2,
     "metadata": {},
     "output_type": "execute_result"
    }
   ],
   "source": [
    "news = pd.read_csv(\"data/news.csv\")\n",
    "news.head()"
   ]
  },
  {
   "cell_type": "code",
   "execution_count": 3,
   "id": "28749bff",
   "metadata": {},
   "outputs": [
    {
     "name": "stdout",
     "output_type": "stream",
     "text": [
      "<class 'pandas.core.frame.DataFrame'>\n",
      "RangeIndex: 6335 entries, 0 to 6334\n",
      "Data columns (total 4 columns):\n",
      " #   Column      Non-Null Count  Dtype \n",
      "---  ------      --------------  ----- \n",
      " 0   Unnamed: 0  6335 non-null   int64 \n",
      " 1   title       6335 non-null   object\n",
      " 2   text        6335 non-null   object\n",
      " 3   label       6335 non-null   object\n",
      "dtypes: int64(1), object(3)\n",
      "memory usage: 198.1+ KB\n"
     ]
    }
   ],
   "source": [
    "news.info()"
   ]
  },
  {
   "cell_type": "code",
   "execution_count": 4,
   "id": "b33e5846",
   "metadata": {},
   "outputs": [
    {
     "data": {
      "text/plain": [
       "label\n",
       "REAL    3171\n",
       "FAKE    3164\n",
       "Name: count, dtype: int64"
      ]
     },
     "execution_count": 4,
     "metadata": {},
     "output_type": "execute_result"
    }
   ],
   "source": [
    "news['label'].value_counts()"
   ]
  },
  {
   "cell_type": "code",
   "execution_count": 5,
   "id": "9c1b48f5",
   "metadata": {},
   "outputs": [],
   "source": [
    "options = ['REAL', 'FAKE']\n",
    "news = news.loc[news['label'].isin(options)]"
   ]
  },
  {
   "cell_type": "code",
   "execution_count": 6,
   "id": "62ce4a9b",
   "metadata": {},
   "outputs": [
    {
     "data": {
      "text/plain": [
       "label\n",
       "REAL    3171\n",
       "FAKE    3164\n",
       "Name: count, dtype: int64"
      ]
     },
     "execution_count": 6,
     "metadata": {},
     "output_type": "execute_result"
    }
   ],
   "source": [
    "news['label'].value_counts()"
   ]
  },
  {
   "cell_type": "code",
   "execution_count": 7,
   "id": "84e04171",
   "metadata": {},
   "outputs": [
    {
     "data": {
      "text/plain": [
       "Text(0, 0.5, 'News Type')"
      ]
     },
     "execution_count": 7,
     "metadata": {},
     "output_type": "execute_result"
    },
    {
     "data": {
      "image/png": "[encoded data removed]",
      "text/plain": [
       "<Figure size 900x600 with 1 Axes>"
      ]
     },
     "metadata": {},
     "output_type": "display_data"
    }
   ],
   "source": [
    "# Visualize the distribution\n",
    "news.label.value_counts().plot(kind='pie', autopct='%1.0f%%',\n",
    "                    fontsize=12, figsize=(9,6), colors=[\"red\", \"blue\"])\n",
    "plt.ylabel('News Type', size=14)"
   ]
  },
  {
   "cell_type": "markdown",
   "id": "92a565d0",
   "metadata": {},
   "source": [
    "## dataset articles equally distributed between real news and fake news"
   ]
  },
  {
   "cell_type": "code",
   "execution_count": 8,
   "id": "f53f9afd",
   "metadata": {},
   "outputs": [],
   "source": [
    "# Divide Dataset into features and labels\n",
    "# Features only include the text not the title of the article\n",
    "features = news.loc[:, 'text'].values\n",
    "labels = news.loc[:, 'label'].values"
   ]
  },
  {
   "cell_type": "code",
   "execution_count": 9,
   "id": "1e7a75f1",
   "metadata": {},
   "outputs": [],
   "source": [
    "# Split into training and test data (80/20 split)\n",
    "\n",
    "x_training_data, x_test_data, y_training_data, y_test_data = train_test_split(\n",
    "    news['text'],labels, test_size=0.2, random_state=7)"
   ]
  },
  {
   "cell_type": "markdown",
   "id": "bbc89318",
   "metadata": {},
   "source": [
    "Tf-Idf scores words the highest that occur often in a single article but are rare among all documents. This gets rid of stop words, e.g. the, a, is..., while promoting those words that have true meaning and change the content of the article."
   ]
  },
  {
   "cell_type": "code",
   "execution_count": 10,
   "id": "0a02bcd9",
   "metadata": {},
   "outputs": [
    {
     "name": "stderr",
     "output_type": "stream",
     "text": [
      "[nltk_data] Downloading package stopwords to\n",
      "[nltk_data]     /Users/jonasmaximilian/nltk_data...\n",
      "[nltk_data]   Package stopwords is already up-to-date!\n"
     ]
    }
   ],
   "source": [
    "# Use TF-IDF to convert text features into vectors\n",
    "import nltk\n",
    "from nltk.corpus import stopwords\n",
    "\n",
    "nltk.download('stopwords')\n",
    "from sklearn.feature_extraction.text import TfidfVectorizer\n",
    "# Initialize TfidfVectorizer\n",
    "vectorizer = TfidfVectorizer(stop_words=('english'), max_df=0.7)\n",
    "\n",
    "# Fit and transform training and test data sets\n",
    "tfidf_train = tfidf_train = vectorizer.fit_transform((x_training_data).astype('U'))\n",
    "tfidf_test = vectorizer.transform(x_test_data)"
   ]
  },
  {
   "cell_type": "markdown",
   "id": "7a05e9b3",
   "metadata": {},
   "source": [
    "# Passive Agressive Classifier\n",
    "\n",
    "Optimization of Perzeptron Classifier for data that is linearly divideable.\n",
    "Learns a weight for every feature (in this case for every word) and adjusts it for every new instance in the training data. \n",
    "Every feature gets multiplied with the correspondent feature weight. If the sum of these products is greater 0 we give the text the label TRUE otherwise the label FALSE  \n",
    "\n",
    "### Difference to Perzeptron Classifier\n",
    "1. Unlike Perzeptron, the passive agressive classifier includes a regularization parameter. This parameter controls the trafeoff between increasing the margin size and ensuring the classifier doesn't misclassify training examples.\n",
    "1. Passive Agressive Classifier only updates their model when there is a mistake, rather than every instance (like Perzeptron)\n",
    "\n",
    "### Usage\n",
    "Performs best in text categorization and collavorative filtering tasks"
   ]
  },
  {
   "cell_type": "code",
   "execution_count": 11,
   "id": "8a10bed1",
   "metadata": {},
   "outputs": [],
   "source": [
    "#Approach 1: Passive Agressive Classifier\n",
    "pa = PassiveAggressiveClassifier(max_iter=50)\n",
    "# Train model on training data\n",
    "pa.fit(tfidf_train, y_training_data)\n",
    "# Make predictions\n",
    "predictions_pa = pa.predict(tfidf_test)"
   ]
  },
  {
   "cell_type": "code",
   "execution_count": 12,
   "id": "191974d2",
   "metadata": {},
   "outputs": [
    {
     "name": "stdout",
     "output_type": "stream",
     "text": [
      "Accuracy: 92.34%\n"
     ]
    }
   ],
   "source": [
    "pa = accuracy_score(y_test_data, predictions_pa)\n",
    "print(f'Accuracy: {round(pa*100,2)}%')"
   ]
  },
  {
   "cell_type": "code",
   "execution_count": 13,
   "id": "3968fd30",
   "metadata": {},
   "outputs": [
    {
     "name": "stdout",
     "output_type": "stream",
     "text": [
      "              precision    recall  f1-score   support\n",
      "\n",
      "        FAKE       0.93      0.92      0.92       638\n",
      "        REAL       0.92      0.93      0.92       629\n",
      "\n",
      "    accuracy                           0.92      1267\n",
      "   macro avg       0.92      0.92      0.92      1267\n",
      "weighted avg       0.92      0.92      0.92      1267\n",
      "\n"
     ]
    }
   ],
   "source": [
    "# Evaluate performance of the model\n",
    "print(classification_report(y_test_data, predictions_pa))"
   ]
  },
  {
   "cell_type": "markdown",
   "id": "54d1682f",
   "metadata": {},
   "source": [
    "# Logistic Regression Model\n",
    "\n",
    "This type of statistical model (also known as logit model) is often used for classification and predictive analytics. Logistic regression estimates the probability of an event occurring, such as voted or didn’t vote, based on a given dataset of independent variables. Since the outcome is a probability, the dependent variable is bounded between 0 and 1. In logistic regression, a logit transformation is applied on the odds—that is, the probability of success divided by the probability of failure. This is also commonly known as the log odds, or the natural logarithm of odds, and this logistic function is represented by the following formulas:\n",
    "\n",
    "Logit(pi) = 1/(1+ exp(-pi))\n",
    "\n",
    "ln(pi/(1-pi)) = Beta_0 + Beta_1*X_1 + … + B_k*K_k\n",
    "\n",
    "### Logistic- vs Linear Regression\n",
    "\n",
    "Both linear and logistic regression are among the most popular models within data science, and open-source tools, like Python and R, make the computation for them quick and easy.\n",
    "\n",
    "Linear regression models are used to identify the relationship between a continuous dependent variable and one or more independent variables. When there is only one independent variable and one dependent variable, it is known as simple linear regression, but as the number of independent variables increases, it is referred to as multiple linear regression. For each type of linear regression, it seeks to plot a line of best fit through a set of data points, which is typically calculated using the least squares method.\n",
    "\n",
    "Similar to linear regression, logistic regression is also used to estimate the relationship between a dependent variable and one or more independent variables, but it is used to make a prediction about a categorical variable versus a continuous one. A categorical variable can be true or false, yes or no, 1 or 0, et cetera. The unit of measure also differs from linear regression as it produces a probability, but the logit function transforms the S-curve into straight line.  \n",
    "\n",
    "While both models are used in regression analysis to make predictions about future outcomes, linear regression is typically easier to understand. Linear regression also does not require as large of a sample size as logistic regression needs an adequate sample to represent values across all the response categories. Without a larger, representative sample, the model may not have sufficient statistical power to detect a significant effect."
   ]
  },
  {
   "cell_type": "code",
   "execution_count": 14,
   "id": "cedbe782",
   "metadata": {},
   "outputs": [],
   "source": [
    "# Approach 2: Logistic Regression Model\n",
    "model_lr = LogisticRegression(max_iter=150)\n",
    "# Train model on training data\n",
    "model_lr.fit(tfidf_train, y_training_data)\n",
    "# Make prediction on test data\n",
    "predictions_lr = model_lr.predict(tfidf_test)"
   ]
  },
  {
   "cell_type": "code",
   "execution_count": 15,
   "id": "f5d1bda8",
   "metadata": {},
   "outputs": [
    {
     "name": "stdout",
     "output_type": "stream",
     "text": [
      "Accuracy: 91.71%\n"
     ]
    }
   ],
   "source": [
    "lr = accuracy_score(y_test_data, predictions_lr)\n",
    "print(f'Accuracy: {round(lr*100,2)}%')"
   ]
  },
  {
   "cell_type": "code",
   "execution_count": 16,
   "id": "cfc2cce2",
   "metadata": {},
   "outputs": [
    {
     "name": "stdout",
     "output_type": "stream",
     "text": [
      "              precision    recall  f1-score   support\n",
      "\n",
      "        FAKE       0.90      0.94      0.92       638\n",
      "        REAL       0.94      0.89      0.91       629\n",
      "\n",
      "    accuracy                           0.92      1267\n",
      "   macro avg       0.92      0.92      0.92      1267\n",
      "weighted avg       0.92      0.92      0.92      1267\n",
      "\n"
     ]
    }
   ],
   "source": [
    "# Evaluate performance of this model\n",
    "print(classification_report(y_test_data, predictions_lr))"
   ]
  },
  {
   "cell_type": "markdown",
   "id": "6f8aa4eb",
   "metadata": {},
   "source": [
    "# Support Vector Machine (SVM)\n",
    "\n",
    "Support Vector Machine (SVM) is a robust classification and regression technique that maximizes the predictive accuracy of a model without overfitting the training data. SVM is particularly suited to analyzing data with very large numbers (for example, thousands) of predictor fields."
   ]
  },
  {
   "cell_type": "code",
   "execution_count": 17,
   "id": "7325f1f0",
   "metadata": {},
   "outputs": [],
   "source": [
    "# Approach 3: Support Vector Machine\n",
    "model_sv = SVC()\n",
    "# Train model on training data\n",
    "model_sv.fit(tfidf_train, y_training_data)\n",
    "# Make predictions\n",
    "predictions_sv = model_sv.predict(tfidf_test)"
   ]
  },
  {
   "cell_type": "code",
   "execution_count": 18,
   "id": "aa046af1",
   "metadata": {},
   "outputs": [
    {
     "name": "stdout",
     "output_type": "stream",
     "text": [
      "Accuracy: 92.9%\n"
     ]
    }
   ],
   "source": [
    "sv = accuracy_score(y_test_data, predictions_sv)\n",
    "print(f'Accuracy: {round(sv*100, 2)}%')"
   ]
  },
  {
   "cell_type": "code",
   "execution_count": 19,
   "id": "28487c48",
   "metadata": {},
   "outputs": [
    {
     "name": "stdout",
     "output_type": "stream",
     "text": [
      "              precision    recall  f1-score   support\n",
      "\n",
      "        FAKE       0.91      0.95      0.93       638\n",
      "        REAL       0.95      0.91      0.93       629\n",
      "\n",
      "    accuracy                           0.93      1267\n",
      "   macro avg       0.93      0.93      0.93      1267\n",
      "weighted avg       0.93      0.93      0.93      1267\n",
      "\n"
     ]
    }
   ],
   "source": [
    "print(classification_report(y_test_data, predictions_sv))"
   ]
  },
  {
   "cell_type": "code",
   "execution_count": 21,
   "id": "d35c0da8",
   "metadata": {},
   "outputs": [],
   "source": [
    "# Approach 4: Random Forrest Model\n",
    "model_rf = RandomForestClassifier(n_estimators=200, random_state=0)\n",
    "# Train model on training data\n",
    "model_rf.fit(tfidf_train, y_training_data)\n",
    "# Make predictions\n",
    "predictions_rf = model_rf.predict(tfidf_test)"
   ]
  },
  {
   "cell_type": "code",
   "execution_count": 22,
   "id": "b6c339ce",
   "metadata": {},
   "outputs": [
    {
     "name": "stdout",
     "output_type": "stream",
     "text": [
      "Accuracy: 90.13%\n"
     ]
    }
   ],
   "source": [
    "rf = accuracy_score(y_test_data, predictions_rf)\n",
    "print(f'Accuracy: {round(rf*100,2)}%')"
   ]
  },
  {
   "cell_type": "code",
   "execution_count": 23,
   "id": "63812ad6",
   "metadata": {},
   "outputs": [
    {
     "name": "stdout",
     "output_type": "stream",
     "text": [
      "              precision    recall  f1-score   support\n",
      "\n",
      "        FAKE       0.90      0.90      0.90       638\n",
      "        REAL       0.90      0.90      0.90       629\n",
      "\n",
      "    accuracy                           0.90      1267\n",
      "   macro avg       0.90      0.90      0.90      1267\n",
      "weighted avg       0.90      0.90      0.90      1267\n",
      "\n"
     ]
    }
   ],
   "source": [
    "print(classification_report(y_test_data, predictions_rf))"
   ]
  },
  {
   "cell_type": "code",
   "execution_count": 24,
   "id": "7ebf45ff",
   "metadata": {},
   "outputs": [
    {
     "data": {
      "text/html": [
       "<div>\n",
       "<style scoped>\n",
       "    .dataframe tbody tr th:only-of-type {\n",
       "        vertical-align: middle;\n",
       "    }\n",
       "\n",
       "    .dataframe tbody tr th {\n",
       "        vertical-align: top;\n",
       "    }\n",
       "\n",
       "    .dataframe thead th {\n",
       "        text-align: right;\n",
       "    }\n",
       "</style>\n",
       "<table border=\"1\" class=\"dataframe\">\n",
       "  <thead>\n",
       "    <tr style=\"text-align: right;\">\n",
       "      <th></th>\n",
       "      <th>Model</th>\n",
       "      <th>Accuracy_score</th>\n",
       "    </tr>\n",
       "  </thead>\n",
       "  <tbody>\n",
       "    <tr>\n",
       "      <th>0</th>\n",
       "      <td>Passive Aggressive Classifier</td>\n",
       "      <td>0.923441</td>\n",
       "    </tr>\n",
       "    <tr>\n",
       "      <th>1</th>\n",
       "      <td>Logistic Regression</td>\n",
       "      <td>0.917127</td>\n",
       "    </tr>\n",
       "    <tr>\n",
       "      <th>2</th>\n",
       "      <td>Support Vector Machine</td>\n",
       "      <td>0.928966</td>\n",
       "    </tr>\n",
       "    <tr>\n",
       "      <th>3</th>\n",
       "      <td>Random Forest</td>\n",
       "      <td>0.901342</td>\n",
       "    </tr>\n",
       "  </tbody>\n",
       "</table>\n",
       "</div>"
      ],
      "text/plain": [
       "                           Model  Accuracy_score\n",
       "0  Passive Aggressive Classifier        0.923441\n",
       "1            Logistic Regression        0.917127\n",
       "2         Support Vector Machine        0.928966\n",
       "3                  Random Forest        0.901342"
      ]
     },
     "execution_count": 24,
     "metadata": {},
     "output_type": "execute_result"
    }
   ],
   "source": [
    "# Show accuracy scores for each model\n",
    "models = pd.DataFrame({\n",
    "    'Model': ['Passive Aggressive Classifier', 'Logistic Regression', \n",
    "             'Support Vector Machine', 'Random Forest'],\n",
    "    'Accuracy_score': [pa, lr, sv, rf]\n",
    "})\n",
    "models"
   ]
  },
  {
   "cell_type": "code",
   "execution_count": 25,
   "id": "34f8f732",
   "metadata": {},
   "outputs": [
    {
     "data": {
      "text/html": [
       "<div>\n",
       "<style scoped>\n",
       "    .dataframe tbody tr th:only-of-type {\n",
       "        vertical-align: middle;\n",
       "    }\n",
       "\n",
       "    .dataframe tbody tr th {\n",
       "        vertical-align: top;\n",
       "    }\n",
       "\n",
       "    .dataframe thead th {\n",
       "        text-align: right;\n",
       "    }\n",
       "</style>\n",
       "<table border=\"1\" class=\"dataframe\">\n",
       "  <thead>\n",
       "    <tr style=\"text-align: right;\">\n",
       "      <th></th>\n",
       "      <th>Model</th>\n",
       "      <th>Accuracy_score</th>\n",
       "    </tr>\n",
       "  </thead>\n",
       "  <tbody>\n",
       "    <tr>\n",
       "      <th>2</th>\n",
       "      <td>Support Vector Machine</td>\n",
       "      <td>0.928966</td>\n",
       "    </tr>\n",
       "    <tr>\n",
       "      <th>0</th>\n",
       "      <td>Passive Aggressive Classifier</td>\n",
       "      <td>0.923441</td>\n",
       "    </tr>\n",
       "    <tr>\n",
       "      <th>1</th>\n",
       "      <td>Logistic Regression</td>\n",
       "      <td>0.917127</td>\n",
       "    </tr>\n",
       "    <tr>\n",
       "      <th>3</th>\n",
       "      <td>Random Forest</td>\n",
       "      <td>0.901342</td>\n",
       "    </tr>\n",
       "  </tbody>\n",
       "</table>\n",
       "</div>"
      ],
      "text/plain": [
       "                           Model  Accuracy_score\n",
       "2         Support Vector Machine        0.928966\n",
       "0  Passive Aggressive Classifier        0.923441\n",
       "1            Logistic Regression        0.917127\n",
       "3                  Random Forest        0.901342"
      ]
     },
     "execution_count": 25,
     "metadata": {},
     "output_type": "execute_result"
    },
    {
     "data": {
      "image/png": "[encoded data removed]",
      "text/plain": [
       "<Figure size 640x480 with 1 Axes>"
      ]
     },
     "metadata": {},
     "output_type": "display_data"
    }
   ],
   "source": [
    "sns.barplot(x='Accuracy_score', y='Model', data=models)\n",
    "models.sort_values(by='Accuracy_score', ascending=False)"
   ]
  }
 ],
 "metadata": {
  "kernelspec": {
   "display_name": "Python 3 (ipykernel)",
   "language": "python",
   "name": "python3"
  },
  "language_info": {
   "codemirror_mode": {
    "name": "ipython",
    "version": 3
   },
   "file_extension": ".py",
   "mimetype": "text/x-python",
   "name": "python",
   "nbconvert_exporter": "python",
   "pygments_lexer": "ipython3",
   "version": "3.9.16"
  }
 },
 "nbformat": 4,
 "nbformat_minor": 5
}
