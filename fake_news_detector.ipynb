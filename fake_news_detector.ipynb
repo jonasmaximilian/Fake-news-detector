{
 "cells": [
  {
   "cell_type": "code",
   "execution_count": 5,
   "id": "a16196fe",
   "metadata": {},
   "outputs": [
    {
     "name": "stdout",
     "output_type": "stream",
     "text": [
      "Imports successful\n"
     ]
    }
   ],
   "source": [
    "import numpy as np\n",
    "import pandas as pd\n",
    "import matplotlib.pyplot as plt\n",
    "import seaborn as sns\n",
    "import itertools\n",
    "from sklearn.model_selection import train_test_split\n",
    "from sklearn.feature_extraction.text import TfidfVectorizer\n",
    "from sklearn.linear_model import PassiveAggressiveClassifier\n",
    "from sklearn.linear_model import LogisticRegression\n",
    "from sklearn.svm import SVC\n",
    "from sklearn.ensemble import RandomForestClassifier\n",
    "from sklearn.metrics import accuracy_score, classification_report\n",
    "print(\"Imports successful\")"
   ]
  },
  {
   "cell_type": "code",
   "execution_count": 13,
   "id": "a00fd103",
   "metadata": {},
   "outputs": [
    {
     "data": {
      "text/html": [
       "<div>\n",
       "<style scoped>\n",
       "    .dataframe tbody tr th:only-of-type {\n",
       "        vertical-align: middle;\n",
       "    }\n",
       "\n",
       "    .dataframe tbody tr th {\n",
       "        vertical-align: top;\n",
       "    }\n",
       "\n",
       "    .dataframe thead th {\n",
       "        text-align: right;\n",
       "    }\n",
       "</style>\n",
       "<table border=\"1\" class=\"dataframe\">\n",
       "  <thead>\n",
       "    <tr style=\"text-align: right;\">\n",
       "      <th></th>\n",
       "      <th>Unnamed: 0</th>\n",
       "      <th>title</th>\n",
       "      <th>text</th>\n",
       "      <th>label</th>\n",
       "    </tr>\n",
       "  </thead>\n",
       "  <tbody>\n",
       "    <tr>\n",
       "      <th>0</th>\n",
       "      <td>8476</td>\n",
       "      <td>You Can Smell Hillary’s Fear</td>\n",
       "      <td>Daniel Greenfield, a Shillman Journalism Fello...</td>\n",
       "      <td>FAKE</td>\n",
       "    </tr>\n",
       "    <tr>\n",
       "      <th>1</th>\n",
       "      <td>10294</td>\n",
       "      <td>Watch The Exact Moment Paul Ryan Committed Pol...</td>\n",
       "      <td>Google Pinterest Digg Linkedin Reddit Stumbleu...</td>\n",
       "      <td>FAKE</td>\n",
       "    </tr>\n",
       "    <tr>\n",
       "      <th>2</th>\n",
       "      <td>3608</td>\n",
       "      <td>Kerry to go to Paris in gesture of sympathy</td>\n",
       "      <td>U.S. Secretary of State John F. Kerry said Mon...</td>\n",
       "      <td>REAL</td>\n",
       "    </tr>\n",
       "    <tr>\n",
       "      <th>3</th>\n",
       "      <td>10142</td>\n",
       "      <td>Bernie supporters on Twitter erupt in anger ag...</td>\n",
       "      <td>— Kaydee King (@KaydeeKing) November 9, 2016 T...</td>\n",
       "      <td>FAKE</td>\n",
       "    </tr>\n",
       "    <tr>\n",
       "      <th>4</th>\n",
       "      <td>875</td>\n",
       "      <td>The Battle of New York: Why This Primary Matters</td>\n",
       "      <td>It's primary day in New York and front-runners...</td>\n",
       "      <td>REAL</td>\n",
       "    </tr>\n",
       "  </tbody>\n",
       "</table>\n",
       "</div>"
      ],
      "text/plain": [
       "   Unnamed: 0                                              title   \n",
       "0        8476                       You Can Smell Hillary’s Fear  \\\n",
       "1       10294  Watch The Exact Moment Paul Ryan Committed Pol...   \n",
       "2        3608        Kerry to go to Paris in gesture of sympathy   \n",
       "3       10142  Bernie supporters on Twitter erupt in anger ag...   \n",
       "4         875   The Battle of New York: Why This Primary Matters   \n",
       "\n",
       "                                                text label  \n",
       "0  Daniel Greenfield, a Shillman Journalism Fello...  FAKE  \n",
       "1  Google Pinterest Digg Linkedin Reddit Stumbleu...  FAKE  \n",
       "2  U.S. Secretary of State John F. Kerry said Mon...  REAL  \n",
       "3  — Kaydee King (@KaydeeKing) November 9, 2016 T...  FAKE  \n",
       "4  It's primary day in New York and front-runners...  REAL  "
      ]
     },
     "execution_count": 13,
     "metadata": {},
     "output_type": "execute_result"
    }
   ],
   "source": [
    "news = pd.read_csv(\"data/news.csv\")\n",
    "news.head()"
   ]
  },
  {
   "cell_type": "code",
   "execution_count": 14,
   "id": "28749bff",
   "metadata": {},
   "outputs": [
    {
     "name": "stdout",
     "output_type": "stream",
     "text": [
      "<class 'pandas.core.frame.DataFrame'>\n",
      "RangeIndex: 6335 entries, 0 to 6334\n",
      "Data columns (total 4 columns):\n",
      " #   Column      Non-Null Count  Dtype \n",
      "---  ------      --------------  ----- \n",
      " 0   Unnamed: 0  6335 non-null   int64 \n",
      " 1   title       6335 non-null   object\n",
      " 2   text        6335 non-null   object\n",
      " 3   label       6335 non-null   object\n",
      "dtypes: int64(1), object(3)\n",
      "memory usage: 198.1+ KB\n"
     ]
    }
   ],
   "source": [
    "news.info()"
   ]
  },
  {
   "cell_type": "code",
   "execution_count": 17,
   "id": "b33e5846",
   "metadata": {},
   "outputs": [
    {
     "data": {
      "text/plain": [
       "label\n",
       "REAL    3171\n",
       "FAKE    3164\n",
       "Name: count, dtype: int64"
      ]
     },
     "execution_count": 17,
     "metadata": {},
     "output_type": "execute_result"
    }
   ],
   "source": [
    "news['label'].value_counts()"
   ]
  },
  {
   "cell_type": "code",
   "execution_count": 15,
   "id": "9c1b48f5",
   "metadata": {},
   "outputs": [],
   "source": [
    "options = ['REAL', 'FAKE']\n",
    "news = news.loc[news['label'].isin(options)]"
   ]
  },
  {
   "cell_type": "code",
   "execution_count": 16,
   "id": "62ce4a9b",
   "metadata": {},
   "outputs": [
    {
     "data": {
      "text/plain": [
       "label\n",
       "REAL    3171\n",
       "FAKE    3164\n",
       "Name: count, dtype: int64"
      ]
     },
     "execution_count": 16,
     "metadata": {},
     "output_type": "execute_result"
    }
   ],
   "source": [
    "news['label'].value_counts()"
   ]
  },
  {
   "cell_type": "code",
   "execution_count": 19,
   "id": "84e04171",
   "metadata": {},
   "outputs": [
    {
     "data": {
      "text/plain": [
       "Text(0, 0.5, 'News Type')"
      ]
     },
     "execution_count": 19,
     "metadata": {},
     "output_type": "execute_result"
    },
    {
     "data": {
      "image/png": "[encoded data removed]",
      "text/plain": [
       "<Figure size 900x600 with 1 Axes>"
      ]
     },
     "metadata": {},
     "output_type": "display_data"
    }
   ],
   "source": [
    "# Visualize the distribution\n",
    "news.label.value_counts().plot(kind='pie', autopct='%1.0f%%',\n",
    "                    fontsize=12, figsize=(9,6), colors=[\"red\", \"blue\"])\n",
    "plt.ylabel('News Type', size=14)"
   ]
  },
  {
   "cell_type": "markdown",
   "id": "92a565d0",
   "metadata": {},
   "source": [
    "## dataset articles equally distributed between real news and fake news"
   ]
  },
  {
   "cell_type": "code",
   "execution_count": 48,
   "id": "f53f9afd",
   "metadata": {},
   "outputs": [],
   "source": [
    "# Divide Dataset into features and labels\n",
    "# Features only include the text not the title of the article\n",
    "features = news.loc[:, 'text'].values\n",
    "labels = news.loc[:, 'label'].values"
   ]
  },
  {
   "cell_type": "code",
   "execution_count": 50,
   "id": "1e7a75f1",
   "metadata": {},
   "outputs": [],
   "source": [
    "# Split into training and test data (80/20 split)\n",
    "\n",
    "x_training_data, x_test_data, y_training_data, y_test_data = train_test_split(\n",
    "    news['text'],labels, test_size=0.2, random_state=7)"
   ]
  },
  {
   "cell_type": "markdown",
   "id": "bbc89318",
   "metadata": {},
   "source": [
    "Tf-Idf scores words the highest that occur often in a single article but are rare among all documents. This gets rid of stop words, e.g. the, a, is..., while promoting those words that have true meaning and change the content of the article."
   ]
  },
  {
   "cell_type": "code",
   "execution_count": 54,
   "id": "0a02bcd9",
   "metadata": {},
   "outputs": [
    {
     "name": "stderr",
     "output_type": "stream",
     "text": [
      "[nltk_data] Downloading package stopwords to\n",
      "[nltk_data]     /Users/jonasmaximilian/nltk_data...\n",
      "[nltk_data]   Package stopwords is already up-to-date!\n"
     ]
    }
   ],
   "source": [
    "# Use TF-IDF to convert text features into vectors\n",
    "import nltk\n",
    "from nltk.corpus import stopwords\n",
    "\n",
    "nltk.download('stopwords')\n",
    "from sklearn.feature_extraction.text import TfidfVectorizer\n",
    "# Initialize TfidfVectorizer\n",
    "vectorizer = TfidfVectorizer(stop_words=('english'), max_df=0.7)\n",
    "\n",
    "# Fit and transform training and test data sets\n",
    "tfidf_train = tfidf_train = vectorizer.fit_transform((x_training_data).astype('U'))\n",
    "tfidf_test = vectorizer.transform(x_test_data)"
   ]
  },
  {
   "cell_type": "code",
   "execution_count": 56,
   "id": "8a10bed1",
   "metadata": {},
   "outputs": [],
   "source": [
    "#Approach 1: Passive Agressive Classifier\n",
    "pa = PassiveAggressiveClassifier(max_iter=50)\n",
    "# Train model on training data\n",
    "pa.fit(tfidf_train, y_training_data)\n",
    "# Make predictions\n",
    "predictions_pa = pa.predict(tfidf_test)"
   ]
  },
  {
   "cell_type": "code",
   "execution_count": 57,
   "id": "191974d2",
   "metadata": {},
   "outputs": [
    {
     "name": "stdout",
     "output_type": "stream",
     "text": [
      "Accuracy: 92.74%\n"
     ]
    }
   ],
   "source": [
    "pa = accuracy_score(y_test_data, predictions_pa)\n",
    "print(f'Accuracy: {round(pa*100,2)}%')"
   ]
  },
  {
   "cell_type": "code",
   "execution_count": 58,
   "id": "3968fd30",
   "metadata": {},
   "outputs": [
    {
     "name": "stdout",
     "output_type": "stream",
     "text": [
      "              precision    recall  f1-score   support\n",
      "\n",
      "        FAKE       0.93      0.92      0.93       638\n",
      "        REAL       0.92      0.93      0.93       629\n",
      "\n",
      "    accuracy                           0.93      1267\n",
      "   macro avg       0.93      0.93      0.93      1267\n",
      "weighted avg       0.93      0.93      0.93      1267\n",
      "\n"
     ]
    }
   ],
   "source": [
    "# Evaluate performance of the model\n",
    "print(classification_report(y_test_data, predictions_pa))"
   ]
  },
  {
   "cell_type": "code",
   "execution_count": 59,
   "id": "cedbe782",
   "metadata": {},
   "outputs": [],
   "source": [
    "# Approach 2: Logistic Regression Model\n",
    "model_lr = LogisticRegression(max_iter=150)\n",
    "# Train model on training data\n",
    "model_lr.fit(tfidf_train, y_training_data)\n",
    "# Make prediction on test data\n",
    "predictions_lr = model_lr.predict(tfidf_test)"
   ]
  },
  {
   "cell_type": "code",
   "execution_count": 61,
   "id": "f5d1bda8",
   "metadata": {},
   "outputs": [
    {
     "name": "stdout",
     "output_type": "stream",
     "text": [
      "Accuracy: 91.71%\n"
     ]
    }
   ],
   "source": [
    "lr = accuracy_score(y_test_data, predictions_lr)\n",
    "print(f'Accuracy: {round(lr*100,2)}%')"
   ]
  },
  {
   "cell_type": "code",
   "execution_count": 62,
   "id": "cfc2cce2",
   "metadata": {},
   "outputs": [
    {
     "name": "stdout",
     "output_type": "stream",
     "text": [
      "              precision    recall  f1-score   support\n",
      "\n",
      "        FAKE       0.90      0.94      0.92       638\n",
      "        REAL       0.94      0.89      0.91       629\n",
      "\n",
      "    accuracy                           0.92      1267\n",
      "   macro avg       0.92      0.92      0.92      1267\n",
      "weighted avg       0.92      0.92      0.92      1267\n",
      "\n"
     ]
    }
   ],
   "source": [
    "# Evaluate performance of this model\n",
    "print(classification_report(y_test_data, predictions_lr))"
   ]
  },
  {
   "cell_type": "code",
   "execution_count": null,
   "id": "7325f1f0",
   "metadata": {},
   "outputs": [],
   "source": []
  }
 ],
 "metadata": {
  "kernelspec": {
   "display_name": "Python 3 (ipykernel)",
   "language": "python",
   "name": "python3"
  },
  "language_info": {
   "codemirror_mode": {
    "name": "ipython",
    "version": 3
   },
   "file_extension": ".py",
   "mimetype": "text/x-python",
   "name": "python",
   "nbconvert_exporter": "python",
   "pygments_lexer": "ipython3",
   "version": "3.9.16"
  }
 },
 "nbformat": 4,
 "nbformat_minor": 5
}
